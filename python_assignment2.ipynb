{
 "cells": [
  {
   "cell_type": "code",
   "execution_count": 4,
   "metadata": {},
   "outputs": [
    {
     "name": "stdout",
     "output_type": "stream",
     "text": [
      "Enter no. of lines in odd number: 9\n",
      "\n",
      "* \n",
      "* * \n",
      "* * * \n",
      "* * * * \n",
      "* * * * * \n",
      "* * * * \n",
      "* * * \n",
      "* * \n",
      "* \n"
     ]
    }
   ],
   "source": [
    "\"\"\"\n",
    "1. Create the below pattern using nested for loop in Python.\n",
    "*\n",
    "* *\n",
    "* * *\n",
    "* * * *\n",
    "* * * * *\n",
    "* * * * \n",
    "* * *\n",
    "* *\n",
    "*\n",
    "\"\"\"\n",
    " \n",
    "tot_lines = int(input(\"Enter no. of lines in odd number: \"))\n",
    "for i in range(0, tot_lines + 1):\n",
    "    if i <= tot_lines//2:\n",
    "        for j in range(0,i):\n",
    "            print(\"* \", end = \"\")\n",
    "    else:\n",
    "        for j in range(tot_lines, i - 1, -1):\n",
    "            print(\"* \", end = \"\")    \n",
    "    print(\"\")\n",
    "    \n"
   ]
  },
  {
   "cell_type": "code",
   "execution_count": 6,
   "metadata": {},
   "outputs": [
    {
     "name": "stdout",
     "output_type": "stream",
     "text": [
      "Enter a word to be reversed : ineuron\n",
      "norueni\n"
     ]
    }
   ],
   "source": [
    "\"\"\"\n",
    "2. Write a Python program to reverse a word after accepting the input from the user.\n",
    "\"\"\"\n",
    "word_entered = input('Enter a word to be reversed : ')\n",
    "print(word_entered[::-1])"
   ]
  },
  {
   "cell_type": "code",
   "execution_count": null,
   "metadata": {},
   "outputs": [],
   "source": []
  }
 ],
 "metadata": {
  "kernelspec": {
   "display_name": "Python 3",
   "language": "python",
   "name": "python3"
  },
  "language_info": {
   "codemirror_mode": {
    "name": "ipython",
    "version": 3
   },
   "file_extension": ".py",
   "mimetype": "text/x-python",
   "name": "python",
   "nbconvert_exporter": "python",
   "pygments_lexer": "ipython3",
   "version": "3.8.5"
  }
 },
 "nbformat": 4,
 "nbformat_minor": 4
}
